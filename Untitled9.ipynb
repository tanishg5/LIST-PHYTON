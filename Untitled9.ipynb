{
 "cells": [
  {
   "cell_type": "code",
   "execution_count": 3,
   "id": "a93195c1",
   "metadata": {},
   "outputs": [
    {
     "name": "stdout",
     "output_type": "stream",
     "text": [
      "<class 'list'> [3, 5, 6, 'cp is love', True]\n"
     ]
    }
   ],
   "source": [
    "marks = [3,5,6,\"cp is love\",True]  #list\n",
    "print(type(marks),marks)"
   ]
  },
  {
   "cell_type": "code",
   "execution_count": 4,
   "id": "1597d0d3",
   "metadata": {},
   "outputs": [
    {
     "data": {
      "text/plain": [
       "3"
      ]
     },
     "execution_count": 4,
     "metadata": {},
     "output_type": "execute_result"
    }
   ],
   "source": [
    "marks[0]"
   ]
  },
  {
   "cell_type": "code",
   "execution_count": 9,
   "id": "fb067487",
   "metadata": {},
   "outputs": [
    {
     "name": "stdout",
     "output_type": "stream",
     "text": [
      "3\n",
      "5\n",
      "6\n",
      "cp is love\n",
      "True\n"
     ]
    }
   ],
   "source": [
    "for i in marks:\n",
    "    print(i)"
   ]
  },
  {
   "cell_type": "code",
   "execution_count": 11,
   "id": "1d07f028",
   "metadata": {},
   "outputs": [
    {
     "data": {
      "text/plain": [
       "range(1, 10)"
      ]
     },
     "execution_count": 11,
     "metadata": {},
     "output_type": "execute_result"
    }
   ],
   "source": [
    "list1 = range(1,10)\n",
    "list1"
   ]
  },
  {
   "cell_type": "code",
   "execution_count": 12,
   "id": "b8b66026",
   "metadata": {},
   "outputs": [
    {
     "name": "stdout",
     "output_type": "stream",
     "text": [
      "6\n",
      "6\n",
      "6\n",
      "6\n"
     ]
    }
   ],
   "source": [
    "print(marks[-3]) #negative indexing\n",
    "print(marks[len(marks)-3]) #positive index\n",
    "print(marks[5-3]) #positive index\n",
    "print(marks[2]) #positive index"
   ]
  },
  {
   "cell_type": "code",
   "execution_count": 20,
   "id": "521b090c",
   "metadata": {},
   "outputs": [
    {
     "name": "stdout",
     "output_type": "stream",
     "text": [
      "yes\n"
     ]
    }
   ],
   "source": [
    "#element present or not using in keyword\n",
    "if \"cp is love\" in marks:\n",
    "    print(\"yes\")\n",
    "else: \n",
    "    print(\"no\")"
   ]
  },
  {
   "cell_type": "code",
   "execution_count": 21,
   "id": "aae4b2e9",
   "metadata": {},
   "outputs": [
    {
     "name": "stdout",
     "output_type": "stream",
     "text": [
      "yes\n"
     ]
    }
   ],
   "source": [
    "if \"love\" in \"cp is love\":   #to check a substring or character is present or not\n",
    "    print(\"yes\")\n",
    "else:\n",
    "    print(\"no\")"
   ]
  },
  {
   "cell_type": "code",
   "execution_count": 23,
   "id": "79a4a854",
   "metadata": {},
   "outputs": [
    {
     "data": {
      "text/plain": [
       "[5, 6, 'cp is love', True]"
      ]
     },
     "execution_count": 23,
     "metadata": {},
     "output_type": "execute_result"
    }
   ],
   "source": [
    "marks[1:] #go from index 1 till length of list - 1"
   ]
  },
  {
   "cell_type": "code",
   "execution_count": 24,
   "id": "9426109e",
   "metadata": {},
   "outputs": [
    {
     "data": {
      "text/plain": [
       "[5, 6, 'cp is love']"
      ]
     },
     "execution_count": 24,
     "metadata": {},
     "output_type": "execute_result"
    }
   ],
   "source": [
    "marks[1:-1]"
   ]
  },
  {
   "cell_type": "code",
   "execution_count": 25,
   "id": "3af90f95",
   "metadata": {},
   "outputs": [
    {
     "data": {
      "text/plain": [
       "[5, 6, 'cp is love']"
      ]
     },
     "execution_count": 25,
     "metadata": {},
     "output_type": "execute_result"
    }
   ],
   "source": [
    "marks[1:4] # 4 is not included remember this "
   ]
  },
  {
   "cell_type": "code",
   "execution_count": 26,
   "id": "1ab78206",
   "metadata": {},
   "outputs": [
    {
     "data": {
      "text/plain": [
       "[5, 'cp is love']"
      ]
     },
     "execution_count": 26,
     "metadata": {},
     "output_type": "execute_result"
    }
   ],
   "source": [
    "marks[1:4:2]   # here 2 is jump index it will go like this 1->3->5->7->9 soon"
   ]
  },
  {
   "cell_type": "code",
   "execution_count": 27,
   "id": "9a776b54",
   "metadata": {},
   "outputs": [],
   "source": [
    "#in negative indexing always convert it to positive index then move on to next step"
   ]
  },
  {
   "cell_type": "code",
   "execution_count": 29,
   "id": "13923bf9",
   "metadata": {},
   "outputs": [
    {
     "data": {
      "text/plain": [
       "[1, 4, 9, 16, 25, 36, 49, 64, 81]"
      ]
     },
     "execution_count": 29,
     "metadata": {},
     "output_type": "execute_result"
    }
   ],
   "source": [
    "#list comphrension\n",
    "lst = [i*i for i in range(1,10)]\n",
    "lst"
   ]
  },
  {
   "cell_type": "code",
   "execution_count": 32,
   "id": "4f192f30",
   "metadata": {},
   "outputs": [
    {
     "data": {
      "text/plain": [
       "[25]"
      ]
     },
     "execution_count": 32,
     "metadata": {},
     "output_type": "execute_result"
    }
   ],
   "source": [
    "lst1 = [i*i for i in range(1,10) if i%5==0]\n",
    "lst1\n"
   ]
  },
  {
   "cell_type": "code",
   "execution_count": 35,
   "id": "5e0c0b0c",
   "metadata": {},
   "outputs": [
    {
     "data": {
      "text/plain": [
       "[5, 10]"
      ]
     },
     "execution_count": 35,
     "metadata": {},
     "output_type": "execute_result"
    }
   ],
   "source": [
    "tupl = (1,2,4,5,6,7,8,9,10,11,12)\n",
    "lst2 = [i for i in tupl if i%5==0]\n",
    "lst2"
   ]
  },
  {
   "cell_type": "code",
   "execution_count": 39,
   "id": "ae95590b",
   "metadata": {},
   "outputs": [
    {
     "data": {
      "text/plain": [
       "['leetcode', 'atcoder']"
      ]
     },
     "execution_count": 39,
     "metadata": {},
     "output_type": "execute_result"
    }
   ],
   "source": [
    "lt1 = ['codeforces','codechef','leetcode','atcoder'] # if a character or a string is present or not in the lt1 list \\\\ given\n",
    "list5 = [i for i in lt1 if 't' in i]\n",
    "list5"
   ]
  },
  {
   "cell_type": "code",
   "execution_count": 54,
   "id": "d40362c2",
   "metadata": {},
   "outputs": [
    {
     "data": {
      "text/plain": [
       "[11, 55, 11, 1, 1, 2, 4, 6, 5, 7]"
      ]
     },
     "execution_count": 54,
     "metadata": {},
     "output_type": "execute_result"
    }
   ],
   "source": [
    "l = [11,55,11,1,1,2,4,6,5]  #adding elements to the end of the list using append function\n",
    "l\n",
    "l.append(7)\n",
    "l"
   ]
  },
  {
   "cell_type": "code",
   "execution_count": 55,
   "id": "6451a853",
   "metadata": {},
   "outputs": [
    {
     "data": {
      "text/plain": [
       "[1, 1, 2, 4, 5, 6, 7, 11, 11, 55]"
      ]
     },
     "execution_count": 55,
     "metadata": {},
     "output_type": "execute_result"
    }
   ],
   "source": [
    "l.sort() # list is sorted in ascending order\n",
    "l"
   ]
  },
  {
   "cell_type": "code",
   "execution_count": 56,
   "id": "40296064",
   "metadata": {},
   "outputs": [
    {
     "data": {
      "text/plain": [
       "[55, 11, 11, 7, 6, 5, 4, 2, 1, 1]"
      ]
     },
     "execution_count": 56,
     "metadata": {},
     "output_type": "execute_result"
    }
   ],
   "source": [
    "l.sort(reverse = True) # list is sorted in descending order\n",
    "l"
   ]
  },
  {
   "cell_type": "markdown",
   "id": "d26b1a38",
   "metadata": {},
   "source": []
  },
  {
   "cell_type": "code",
   "execution_count": 58,
   "id": "46c11f4e",
   "metadata": {},
   "outputs": [
    {
     "name": "stdout",
     "output_type": "stream",
     "text": [
      "1\n"
     ]
    }
   ],
   "source": [
    "print(l.index(11))   #returns the index of the given element here it gives the index of element 11 i.e 6"
   ]
  },
  {
   "cell_type": "code",
   "execution_count": 59,
   "id": "80bcbc32",
   "metadata": {},
   "outputs": [
    {
     "data": {
      "text/plain": [
       "2"
      ]
     },
     "execution_count": 59,
     "metadata": {},
     "output_type": "execute_result"
    }
   ],
   "source": [
    "l.count(1)   #return the occurence of the given value in the given list"
   ]
  },
  {
   "cell_type": "code",
   "execution_count": 61,
   "id": "b5cd74ce",
   "metadata": {},
   "outputs": [
    {
     "data": {
      "text/plain": [
       "[1, 11, 11, 7, 6, 5, 4, 2, 1, 1]"
      ]
     },
     "execution_count": 61,
     "metadata": {},
     "output_type": "execute_result"
    }
   ],
   "source": [
    "m = l.copy() #returns the copy of the list\n",
    "m\n",
    "m[0] = 1\n",
    "m"
   ]
  },
  {
   "cell_type": "code",
   "execution_count": 62,
   "id": "d0ea68fb",
   "metadata": {},
   "outputs": [
    {
     "data": {
      "text/plain": [
       "[55, 11, 11, 7, 6, 5, 4, 2, 1, 1]"
      ]
     },
     "execution_count": 62,
     "metadata": {},
     "output_type": "execute_result"
    }
   ],
   "source": [
    "l"
   ]
  },
  {
   "cell_type": "code",
   "execution_count": 68,
   "id": "88f63863",
   "metadata": {},
   "outputs": [
    {
     "data": {
      "text/plain": [
       "[55, (3, 4, 56, 7), 'hi', 11, 11, 7, 6, 5, 4, 2, 1, 1, 1, 1]"
      ]
     },
     "execution_count": 68,
     "metadata": {},
     "output_type": "execute_result"
    }
   ],
   "source": [
    "l.insert(1,(3,4,56,7))   # insert function used to insert a variable of any datatype in the list in this i inserted a tuple\n",
    "l"
   ]
  },
  {
   "cell_type": "code",
   "execution_count": 69,
   "id": "bddd4ebf",
   "metadata": {},
   "outputs": [
    {
     "data": {
      "text/plain": [
       "[100, 1000, 1100]"
      ]
     },
     "execution_count": 69,
     "metadata": {},
     "output_type": "execute_result"
    }
   ],
   "source": [
    "m=[100,1000,1100]\n",
    "m"
   ]
  },
  {
   "cell_type": "code",
   "execution_count": 70,
   "id": "3bef72be",
   "metadata": {},
   "outputs": [
    {
     "data": {
      "text/plain": [
       "[55, (3, 4, 56, 7), 'hi', 11, 11, 7, 6, 5, 4, 2, 1, 1, 1, 1, 100, 1000, 1100]"
      ]
     },
     "execution_count": 70,
     "metadata": {},
     "output_type": "execute_result"
    }
   ],
   "source": [
    "l.extend(m)  #using extend function iska yeh matalab hua 'm' ko kholo(open) kro aur 'l' ke end mei rkhdo\n",
    "l"
   ]
  },
  {
   "cell_type": "code",
   "execution_count": 71,
   "id": "4e1a195e",
   "metadata": {},
   "outputs": [
    {
     "data": {
      "text/plain": [
       "[100,\n",
       " 1000,\n",
       " 1100,\n",
       " 55,\n",
       " (3, 4, 56, 7),\n",
       " 'hi',\n",
       " 11,\n",
       " 11,\n",
       " 7,\n",
       " 6,\n",
       " 5,\n",
       " 4,\n",
       " 2,\n",
       " 1,\n",
       " 1,\n",
       " 1,\n",
       " 1,\n",
       " 100,\n",
       " 1000,\n",
       " 1100]"
      ]
     },
     "execution_count": 71,
     "metadata": {},
     "output_type": "execute_result"
    }
   ],
   "source": [
    "m.extend(l)\n",
    "m"
   ]
  },
  {
   "cell_type": "code",
   "execution_count": 73,
   "id": "b8be0e44",
   "metadata": {},
   "outputs": [
    {
     "data": {
      "text/plain": [
       "[55,\n",
       " (3, 4, 56, 7),\n",
       " 'hi',\n",
       " 11,\n",
       " 11,\n",
       " 7,\n",
       " 6,\n",
       " 5,\n",
       " 4,\n",
       " 2,\n",
       " 1,\n",
       " 1,\n",
       " 1,\n",
       " 1,\n",
       " 100,\n",
       " 1000,\n",
       " 1100,\n",
       " 100,\n",
       " 1000,\n",
       " 1100,\n",
       " 55,\n",
       " (3, 4, 56, 7),\n",
       " 'hi',\n",
       " 11,\n",
       " 11,\n",
       " 7,\n",
       " 6,\n",
       " 5,\n",
       " 4,\n",
       " 2,\n",
       " 1,\n",
       " 1,\n",
       " 1,\n",
       " 1,\n",
       " 100,\n",
       " 1000,\n",
       " 1100]"
      ]
     },
     "execution_count": 73,
     "metadata": {},
     "output_type": "execute_result"
    }
   ],
   "source": [
    "k = l + m  # adding of lists\n",
    "k"
   ]
  },
  {
   "cell_type": "code",
   "execution_count": 74,
   "id": "fca88c55",
   "metadata": {},
   "outputs": [
    {
     "data": {
      "text/plain": [
       "[1, 2, 3, 4, 5, 'hi', 'bye', 'u', 'are', 'a']"
      ]
     },
     "execution_count": 74,
     "metadata": {},
     "output_type": "execute_result"
    }
   ],
   "source": [
    "newlist = [1,2,3,4,5,'hi','bye', 'u','are','a','guy']\n",
    "newlist.pop()  # pop function removes the last element of the list \n",
    "newlist"
   ]
  },
  {
   "cell_type": "code",
   "execution_count": 76,
   "id": "f2088b59",
   "metadata": {},
   "outputs": [
    {
     "data": {
      "text/plain": [
       "True"
      ]
     },
     "execution_count": 76,
     "metadata": {},
     "output_type": "execute_result"
    }
   ],
   "source": [
    "1 in newlist # use of 'in' keyword is 1 present in the list "
   ]
  },
  {
   "cell_type": "code",
   "execution_count": 77,
   "id": "96f418da",
   "metadata": {},
   "outputs": [
    {
     "data": {
      "text/plain": [
       "False"
      ]
     },
     "execution_count": 77,
     "metadata": {},
     "output_type": "execute_result"
    }
   ],
   "source": [
    "1 not in newlist  # use of 'notin' keyword i.e, ky 1 sach mei newlist ke andar nhin h say yes or no "
   ]
  },
  {
   "cell_type": "code",
   "execution_count": null,
   "id": "2a82096a",
   "metadata": {},
   "outputs": [],
   "source": []
  },
  {
   "cell_type": "code",
   "execution_count": null,
   "id": "329bfc1b",
   "metadata": {},
   "outputs": [],
   "source": []
  },
  {
   "cell_type": "code",
   "execution_count": null,
   "id": "f3921504",
   "metadata": {},
   "outputs": [],
   "source": []
  }
 ],
 "metadata": {
  "kernelspec": {
   "display_name": "Python 3 (ipykernel)",
   "language": "python",
   "name": "python3"
  },
  "language_info": {
   "codemirror_mode": {
    "name": "ipython",
    "version": 3
   },
   "file_extension": ".py",
   "mimetype": "text/x-python",
   "name": "python",
   "nbconvert_exporter": "python",
   "pygments_lexer": "ipython3",
   "version": "3.9.13"
  }
 },
 "nbformat": 4,
 "nbformat_minor": 5
}
